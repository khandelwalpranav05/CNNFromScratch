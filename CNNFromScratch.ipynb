{
 "cells": [
  {
   "cell_type": "code",
   "execution_count": 15,
   "metadata": {},
   "outputs": [],
   "source": [
    "import numpy as np\n",
    "import gzip"
   ]
  },
  {
   "cell_type": "code",
   "execution_count": 8,
   "metadata": {},
   "outputs": [],
   "source": [
    "def convolution(image,filt,bias,s=1):\n",
    "    \n",
    "    (n_f,n_c_f,f,_) = filt.shape\n",
    "    n_c,in_dim,_ = image.shape\n",
    "    \n",
    "    out_dim = int((in_dim - f)/s) + 1\n",
    "    \n",
    "    assert n_c==n_c_f\n",
    "    \n",
    "    out = np.zeros((n_f,out_dim,out_dim))\n",
    "    \n",
    "    for curr_f in range(n_f):\n",
    "        curr_y = out_y = 0\n",
    "        \n",
    "        while curr_y + f <= in_dim:\n",
    "            curr_x = out_x = 0\n",
    "            \n",
    "            while curr_x + f<=in_dim:\n",
    "                out[curr_f,out_y,out_x] = np.sum(filt[curr_f] * image[:,curr_y:curr_y + f,curr_x:curr_x + f]) + bias[curr_f]\n",
    "                curr_x +=s\n",
    "                out_x += 1\n",
    "            \n",
    "            curr_y +=s\n",
    "            out_y +=1\n",
    "    \n",
    "    return out"
   ]
  },
  {
   "cell_type": "code",
   "execution_count": 9,
   "metadata": {},
   "outputs": [],
   "source": [
    "def max_pooling(image,f=2,s=2):\n",
    "    \n",
    "    n_c,h_prev,w_prev = image.shape\n",
    "    \n",
    "    h = int((h_prev-f)/s) + 1\n",
    "    w = int((w_prev - f)/s) + 1\n",
    "    \n",
    "    downsampled = np.zeros((n_c,h,w))\n",
    "    \n",
    "    for i in range(n_c):\n",
    "        curr_y = out_y = 0\n",
    "        \n",
    "        while curr_y + g <=h_prev:\n",
    "            curr_x = out_x = 0\n",
    "            \n",
    "            while curr_x + f <=w_prev:\n",
    "                \n",
    "                downsampled[i,out_y,out_x] = np.max(image[i,curr_y:curr_y+f,curr_x:curr_x + f])\n",
    "                curr_x +=s\n",
    "                out_x +=1\n",
    "                \n",
    "            curr_y +=s\n",
    "            out_y +=1\n",
    "            \n",
    "    \n",
    "    return downsampled"
   ]
  },
  {
   "cell_type": "code",
   "execution_count": 10,
   "metadata": {},
   "outputs": [],
   "source": [
    "def softmax(raw_pred):\n",
    "    out = np.exp(raw_pred)\n",
    "    return out/np.sum(out)"
   ]
  },
  {
   "cell_type": "code",
   "execution_count": 11,
   "metadata": {},
   "outputs": [],
   "source": [
    "def lossFunction(prob,label):\n",
    "    return -np.sum(label*np.log(prob))"
   ]
  },
  {
   "cell_type": "code",
   "execution_count": 16,
   "metadata": {},
   "outputs": [],
   "source": [
    "def extract_data(filename,num_images,IMAGE_WIDTH):\n",
    "    print('Extracting',filename)\n",
    "    \n",
    "    with gzip.open(filename) as bytestream:\n",
    "        bytestream.read(16)\n",
    "        buf = bytestream.read(IMAGE_WIDTH*IMAGE_WIDTH*num_images)\n",
    "        data = np.frombuffer(buf,dtype=np.uint8).astype(np.float32)\n",
    "        data = data.reshape(num_images,IMAGE_WIDTH*IMAGE_WIDTH)\n",
    "        \n",
    "        return data"
   ]
  },
  {
   "cell_type": "code",
   "execution_count": 17,
   "metadata": {},
   "outputs": [],
   "source": [
    "def extract_label(filename,num_images):\n",
    "    print('Extracting',filename)\n",
    "    \n",
    "    with gzip.open(filename) as bytestream:\n",
    "        bytestream.read(8)\n",
    "        buf = bytestream.read(1*num_images)\n",
    "        labels = np.frombuffer(buf,dtype=np.uint8).astype(np.int64)\n",
    "        \n",
    "    return labels"
   ]
  },
  {
   "cell_type": "code",
   "execution_count": 21,
   "metadata": {},
   "outputs": [],
   "source": [
    "def filterInitializer(size,scale = 1.0):\n",
    "    \n",
    "    stddev = scale/np.sqrt(np.prod(size))\n",
    "    return np.random.normal(scale=stddev,size=size)"
   ]
  },
  {
   "cell_type": "code",
   "execution_count": 22,
   "metadata": {},
   "outputs": [],
   "source": [
    "def weightInitializer(size):\n",
    "    return np.random.standard_normal(size=size)*0.01"
   ]
  },
  {
   "cell_type": "code",
   "execution_count": null,
   "metadata": {},
   "outputs": [],
   "source": []
  }
 ],
 "metadata": {
  "kernelspec": {
   "display_name": "Python 3",
   "language": "python",
   "name": "python3"
  },
  "language_info": {
   "codemirror_mode": {
    "name": "ipython",
    "version": 3
   },
   "file_extension": ".py",
   "mimetype": "text/x-python",
   "name": "python",
   "nbconvert_exporter": "python",
   "pygments_lexer": "ipython3",
   "version": "3.6.6"
  }
 },
 "nbformat": 4,
 "nbformat_minor": 2
}
